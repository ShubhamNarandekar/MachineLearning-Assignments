{
 "cells": [
  {
   "cell_type": "code",
   "execution_count": 2,
   "metadata": {},
   "outputs": [],
   "source": [
    "import pandas as pd\n",
    "import numpy as np\n",
    "from sklearn.preprocessing import MinMaxScaler, LabelEncoder\n",
    "from sklearn.model_selection import train_test_split, GridSearchCV, RandomizedSearchCV, cross_val_score, cross_validate\n",
    "from sklearn.metrics import confusion_matrix, accuracy_score, f1_score, classification_report, precision_score, recall_score, auc, precision_recall_curve, roc_auc_score, cohen_kappa_score, plot_precision_recall_curve\n",
    "from sklearn.neighbors import KNeighborsClassifier\n",
    "from sklearn.tree import DecisionTreeClassifier\n",
    "from sklearn.neural_network import MLPClassifier\n",
    "from sklearn.ensemble import BaggingClassifier\n",
    "import matplotlib.pyplot as plt"
   ]
  },
  {
   "cell_type": "code",
   "execution_count": 2,
   "metadata": {},
   "outputs": [],
   "source": [
    "data = pd.read_csv('C:/Users/ssnar/Documents/ML/us_census_20200132.csv') "
   ]
  },
  {
   "cell_type": "markdown",
   "metadata": {},
   "source": [
    "# Replacing null values with mode"
   ]
  },
  {
   "cell_type": "code",
   "execution_count": null,
   "metadata": {
    "scrolled": true
   },
   "outputs": [],
   "source": [
    "data['workclass'].fillna(data['workclass'].mode()[0], inplace=True)\n",
    "data['occupation'].fillna(data['occupation'].mode()[0], inplace=True)\n",
    "data['native-country'].fillna(data['native-country'].mode()[0], inplace=True)"
   ]
  },
  {
   "cell_type": "code",
   "execution_count": null,
   "metadata": {},
   "outputs": [],
   "source": [
    "data.shape"
   ]
  },
  {
   "cell_type": "markdown",
   "metadata": {},
   "source": [
    "# OneHotEncoding on native-country because it has many values with same frequancy"
   ]
  },
  {
   "cell_type": "code",
   "execution_count": 5,
   "metadata": {},
   "outputs": [
    {
     "ename": "NameError",
     "evalue": "name 'data' is not defined",
     "output_type": "error",
     "traceback": [
      "\u001b[1;31m---------------------------------------------------------------------------\u001b[0m",
      "\u001b[1;31mNameError\u001b[0m                                 Traceback (most recent call last)",
      "\u001b[1;32m<ipython-input-5-df705d20e9a8>\u001b[0m in \u001b[0;36m<module>\u001b[1;34m\u001b[0m\n\u001b[1;32m----> 1\u001b[1;33m \u001b[0mdata\u001b[0m\u001b[1;33m=\u001b[0m \u001b[0mpd\u001b[0m\u001b[1;33m.\u001b[0m\u001b[0mget_dummies\u001b[0m\u001b[1;33m(\u001b[0m\u001b[0mdata\u001b[0m\u001b[1;33m=\u001b[0m\u001b[0mdata\u001b[0m\u001b[1;33m,\u001b[0m \u001b[0mcolumns\u001b[0m\u001b[1;33m=\u001b[0m\u001b[1;33m[\u001b[0m\u001b[1;34m'native-country'\u001b[0m\u001b[1;33m]\u001b[0m\u001b[1;33m)\u001b[0m\u001b[1;33m\u001b[0m\u001b[1;33m\u001b[0m\u001b[0m\n\u001b[0m",
      "\u001b[1;31mNameError\u001b[0m: name 'data' is not defined"
     ]
    }
   ],
   "source": [
    "data= pd.get_dummies(data=data, columns=['native-country'])"
   ]
  },
  {
   "cell_type": "code",
   "execution_count": 3,
   "metadata": {
    "scrolled": true
   },
   "outputs": [
    {
     "data": {
      "text/html": [
       "<div>\n",
       "<style scoped>\n",
       "    .dataframe tbody tr th:only-of-type {\n",
       "        vertical-align: middle;\n",
       "    }\n",
       "\n",
       "    .dataframe tbody tr th {\n",
       "        vertical-align: top;\n",
       "    }\n",
       "\n",
       "    .dataframe thead th {\n",
       "        text-align: right;\n",
       "    }\n",
       "</style>\n",
       "<table border=\"1\" class=\"dataframe\">\n",
       "  <thead>\n",
       "    <tr style=\"text-align: right;\">\n",
       "      <th></th>\n",
       "      <th>age</th>\n",
       "      <th>workclass</th>\n",
       "      <th>fnlwgt</th>\n",
       "      <th>education</th>\n",
       "      <th>education-num</th>\n",
       "      <th>marital-status</th>\n",
       "      <th>occupation</th>\n",
       "      <th>relationship</th>\n",
       "      <th>race</th>\n",
       "      <th>sex</th>\n",
       "      <th>...</th>\n",
       "      <th>native-country_ Puerto-Rico</th>\n",
       "      <th>native-country_ Scotland</th>\n",
       "      <th>native-country_ South</th>\n",
       "      <th>native-country_ Taiwan</th>\n",
       "      <th>native-country_ Thailand</th>\n",
       "      <th>native-country_ Trinadad&amp;Tobago</th>\n",
       "      <th>native-country_ United-States</th>\n",
       "      <th>native-country_ Vietnam</th>\n",
       "      <th>native-country_ Yugoslavia</th>\n",
       "      <th>Income-category</th>\n",
       "    </tr>\n",
       "  </thead>\n",
       "  <tbody>\n",
       "    <tr>\n",
       "      <th>0</th>\n",
       "      <td>44</td>\n",
       "      <td>Private</td>\n",
       "      <td>111067</td>\n",
       "      <td>Some-college</td>\n",
       "      <td>10</td>\n",
       "      <td>Married-civ-spouse</td>\n",
       "      <td>Craft-repair</td>\n",
       "      <td>Husband</td>\n",
       "      <td>White</td>\n",
       "      <td>Male</td>\n",
       "      <td>...</td>\n",
       "      <td>0</td>\n",
       "      <td>0</td>\n",
       "      <td>0</td>\n",
       "      <td>0</td>\n",
       "      <td>0</td>\n",
       "      <td>0</td>\n",
       "      <td>1</td>\n",
       "      <td>0</td>\n",
       "      <td>0</td>\n",
       "      <td>&lt;=50K</td>\n",
       "    </tr>\n",
       "    <tr>\n",
       "      <th>1</th>\n",
       "      <td>25</td>\n",
       "      <td>Private</td>\n",
       "      <td>203871</td>\n",
       "      <td>Assoc-voc</td>\n",
       "      <td>11</td>\n",
       "      <td>Married-civ-spouse</td>\n",
       "      <td>Prof-specialty</td>\n",
       "      <td>Wife</td>\n",
       "      <td>White</td>\n",
       "      <td>Female</td>\n",
       "      <td>...</td>\n",
       "      <td>0</td>\n",
       "      <td>0</td>\n",
       "      <td>0</td>\n",
       "      <td>0</td>\n",
       "      <td>0</td>\n",
       "      <td>0</td>\n",
       "      <td>1</td>\n",
       "      <td>0</td>\n",
       "      <td>0</td>\n",
       "      <td>&gt;50K</td>\n",
       "    </tr>\n",
       "    <tr>\n",
       "      <th>2</th>\n",
       "      <td>17</td>\n",
       "      <td>Private</td>\n",
       "      <td>270942</td>\n",
       "      <td>HS-grad</td>\n",
       "      <td>9</td>\n",
       "      <td>Never-married</td>\n",
       "      <td>Other-service</td>\n",
       "      <td>Other-relative</td>\n",
       "      <td>White</td>\n",
       "      <td>Male</td>\n",
       "      <td>...</td>\n",
       "      <td>0</td>\n",
       "      <td>0</td>\n",
       "      <td>0</td>\n",
       "      <td>0</td>\n",
       "      <td>0</td>\n",
       "      <td>0</td>\n",
       "      <td>0</td>\n",
       "      <td>0</td>\n",
       "      <td>0</td>\n",
       "      <td>&lt;=50K</td>\n",
       "    </tr>\n",
       "    <tr>\n",
       "      <th>3</th>\n",
       "      <td>50</td>\n",
       "      <td>Private</td>\n",
       "      <td>50178</td>\n",
       "      <td>HS-grad</td>\n",
       "      <td>9</td>\n",
       "      <td>Married-civ-spouse</td>\n",
       "      <td>Tech-support</td>\n",
       "      <td>Husband</td>\n",
       "      <td>White</td>\n",
       "      <td>Male</td>\n",
       "      <td>...</td>\n",
       "      <td>0</td>\n",
       "      <td>0</td>\n",
       "      <td>0</td>\n",
       "      <td>0</td>\n",
       "      <td>0</td>\n",
       "      <td>0</td>\n",
       "      <td>1</td>\n",
       "      <td>0</td>\n",
       "      <td>0</td>\n",
       "      <td>&gt;50K</td>\n",
       "    </tr>\n",
       "    <tr>\n",
       "      <th>4</th>\n",
       "      <td>43</td>\n",
       "      <td>State-gov</td>\n",
       "      <td>101383</td>\n",
       "      <td>HS-grad</td>\n",
       "      <td>9</td>\n",
       "      <td>Married-civ-spouse</td>\n",
       "      <td>Craft-repair</td>\n",
       "      <td>Husband</td>\n",
       "      <td>White</td>\n",
       "      <td>Male</td>\n",
       "      <td>...</td>\n",
       "      <td>0</td>\n",
       "      <td>0</td>\n",
       "      <td>0</td>\n",
       "      <td>0</td>\n",
       "      <td>0</td>\n",
       "      <td>0</td>\n",
       "      <td>1</td>\n",
       "      <td>0</td>\n",
       "      <td>0</td>\n",
       "      <td>&gt;50K</td>\n",
       "    </tr>\n",
       "  </tbody>\n",
       "</table>\n",
       "<p>5 rows × 53 columns</p>\n",
       "</div>"
      ],
      "text/plain": [
       "   age   workclass  fnlwgt      education  education-num       marital-status  \\\n",
       "0   44     Private  111067   Some-college             10   Married-civ-spouse   \n",
       "1   25     Private  203871      Assoc-voc             11   Married-civ-spouse   \n",
       "2   17     Private  270942        HS-grad              9        Never-married   \n",
       "3   50     Private   50178        HS-grad              9   Married-civ-spouse   \n",
       "4   43   State-gov  101383        HS-grad              9   Married-civ-spouse   \n",
       "\n",
       "        occupation     relationship    race      sex  ...  \\\n",
       "0     Craft-repair          Husband   White     Male  ...   \n",
       "1   Prof-specialty             Wife   White   Female  ...   \n",
       "2    Other-service   Other-relative   White     Male  ...   \n",
       "3     Tech-support          Husband   White     Male  ...   \n",
       "4     Craft-repair          Husband   White     Male  ...   \n",
       "\n",
       "   native-country_ Puerto-Rico  native-country_ Scotland  \\\n",
       "0                            0                         0   \n",
       "1                            0                         0   \n",
       "2                            0                         0   \n",
       "3                            0                         0   \n",
       "4                            0                         0   \n",
       "\n",
       "   native-country_ South  native-country_ Taiwan  native-country_ Thailand  \\\n",
       "0                      0                       0                         0   \n",
       "1                      0                       0                         0   \n",
       "2                      0                       0                         0   \n",
       "3                      0                       0                         0   \n",
       "4                      0                       0                         0   \n",
       "\n",
       "   native-country_ Trinadad&Tobago  native-country_ United-States  \\\n",
       "0                                0                              1   \n",
       "1                                0                              1   \n",
       "2                                0                              0   \n",
       "3                                0                              1   \n",
       "4                                0                              1   \n",
       "\n",
       "   native-country_ Vietnam  native-country_ Yugoslavia  Income-category  \n",
       "0                        0                           0            <=50K  \n",
       "1                        0                           0             >50K  \n",
       "2                        0                           0            <=50K  \n",
       "3                        0                           0             >50K  \n",
       "4                        0                           0             >50K  \n",
       "\n",
       "[5 rows x 53 columns]"
      ]
     },
     "execution_count": 3,
     "metadata": {},
     "output_type": "execute_result"
    }
   ],
   "source": [
    "data = pd.read_csv('C:/Users/ssnar/Documents/ML/ohe.csv')\n",
    "data.head()"
   ]
  },
  {
   "cell_type": "markdown",
   "metadata": {},
   "source": [
    "# Frequancy Encoding on the categorical variables"
   ]
  },
  {
   "cell_type": "code",
   "execution_count": 4,
   "metadata": {},
   "outputs": [
    {
     "name": "stdout",
     "output_type": "stream",
     "text": [
      "Workclass frequencies =  {' Private': 2230, ' Self-emp-not-inc': 246, ' Local-gov': 205, ' State-gov': 132, ' Self-emp-inc': 110, ' Federal-gov': 75, ' Never-worked': 1, ' Without-pay': 1}\n",
      "Education frequencies =  {' HS-grad': 1000, ' Some-college': 667, ' Bachelors': 461, ' Masters': 166, ' 11th': 117, ' Assoc-voc': 115, ' Assoc-acdm': 104, ' 10th': 82, ' 7th-8th': 64, ' Prof-school': 51, ' 5th-6th': 48, ' 9th': 40, ' Doctorate': 34, ' 12th': 32, ' 1st-4th': 13, ' Preschool': 6}\n",
      "MaritalStatus frequencies =  {' Married-civ-spouse': 1354, ' Never-married': 991, ' Divorced': 423, ' Widowed': 99, ' Separated': 94, ' Married-spouse-abs': 36, ' Married-AF-spouse': 3}\n",
      "Occupation frequencies =  {' Prof-specialty': 560, ' Exec-managerial': 377, ' Sales': 357, ' Craft-repair': 355, ' Adm-clerical': 343, ' Other-service': 295, ' Machine-op-inspct': 180, ' Transport-moving': 149, ' Handlers-cleaners': 147, ' Farming-fishing': 93, ' Tech-support': 70, ' Protective-serv': 58, ' Priv-house-serv': 15, ' Armed-Forces': 1}\n",
      "Relationship frequencies =  {' Husband': 1199, ' Not-in-family': 765, ' Own-child': 468, ' Unmarried': 322, ' Wife': 142, ' Other-relative': 104}\n",
      "Race frequencies =  {' White': 2586, ' Black': 280, ' Asian-Pac-Islander': 88, ' Other': 24, ' Amer-Indian-Eskimo': 22}\n",
      "Sex frequencies =  {' Male': 1989, ' Female': 1011}\n"
     ]
    }
   ],
   "source": [
    "##Calculating the frequencies of each categorical vaule for every attribute\n",
    "data_workclass = data.workclass.value_counts().to_dict()\n",
    "print('Workclass frequencies = ',data_workclass)\n",
    "data_education = data.education.value_counts().to_dict()\n",
    "print('Education frequencies = ',data_education)\n",
    "data_maritalstatus = data['marital-status'].value_counts().to_dict()\n",
    "print('MaritalStatus frequencies = ',data_maritalstatus)\n",
    "data_occupation = data.occupation.value_counts().to_dict()\n",
    "print('Occupation frequencies = ',data_occupation)\n",
    "data_relationship = data.relationship.value_counts().to_dict()\n",
    "print('Relationship frequencies = ',data_relationship)\n",
    "data_race = data.race.value_counts().to_dict()\n",
    "print('Race frequencies = ',data_race)\n",
    "data_sex = data.sex.value_counts().to_dict()\n",
    "print('Sex frequencies = ',data_sex)"
   ]
  },
  {
   "cell_type": "code",
   "execution_count": 5,
   "metadata": {},
   "outputs": [
    {
     "data": {
      "text/html": [
       "<div>\n",
       "<style scoped>\n",
       "    .dataframe tbody tr th:only-of-type {\n",
       "        vertical-align: middle;\n",
       "    }\n",
       "\n",
       "    .dataframe tbody tr th {\n",
       "        vertical-align: top;\n",
       "    }\n",
       "\n",
       "    .dataframe thead th {\n",
       "        text-align: right;\n",
       "    }\n",
       "</style>\n",
       "<table border=\"1\" class=\"dataframe\">\n",
       "  <thead>\n",
       "    <tr style=\"text-align: right;\">\n",
       "      <th></th>\n",
       "      <th>age</th>\n",
       "      <th>workclass</th>\n",
       "      <th>fnlwgt</th>\n",
       "      <th>education</th>\n",
       "      <th>education-num</th>\n",
       "      <th>marital-status</th>\n",
       "      <th>occupation</th>\n",
       "      <th>relationship</th>\n",
       "      <th>race</th>\n",
       "      <th>sex</th>\n",
       "      <th>...</th>\n",
       "      <th>native-country_ Puerto-Rico</th>\n",
       "      <th>native-country_ Scotland</th>\n",
       "      <th>native-country_ South</th>\n",
       "      <th>native-country_ Taiwan</th>\n",
       "      <th>native-country_ Thailand</th>\n",
       "      <th>native-country_ Trinadad&amp;Tobago</th>\n",
       "      <th>native-country_ United-States</th>\n",
       "      <th>native-country_ Vietnam</th>\n",
       "      <th>native-country_ Yugoslavia</th>\n",
       "      <th>Income-category</th>\n",
       "    </tr>\n",
       "  </thead>\n",
       "  <tbody>\n",
       "    <tr>\n",
       "      <th>0</th>\n",
       "      <td>44</td>\n",
       "      <td>2230</td>\n",
       "      <td>111067</td>\n",
       "      <td>667</td>\n",
       "      <td>10</td>\n",
       "      <td>1354</td>\n",
       "      <td>355</td>\n",
       "      <td>1199</td>\n",
       "      <td>2586</td>\n",
       "      <td>1989</td>\n",
       "      <td>...</td>\n",
       "      <td>0</td>\n",
       "      <td>0</td>\n",
       "      <td>0</td>\n",
       "      <td>0</td>\n",
       "      <td>0</td>\n",
       "      <td>0</td>\n",
       "      <td>1</td>\n",
       "      <td>0</td>\n",
       "      <td>0</td>\n",
       "      <td>&lt;=50K</td>\n",
       "    </tr>\n",
       "    <tr>\n",
       "      <th>1</th>\n",
       "      <td>25</td>\n",
       "      <td>2230</td>\n",
       "      <td>203871</td>\n",
       "      <td>115</td>\n",
       "      <td>11</td>\n",
       "      <td>1354</td>\n",
       "      <td>560</td>\n",
       "      <td>142</td>\n",
       "      <td>2586</td>\n",
       "      <td>1011</td>\n",
       "      <td>...</td>\n",
       "      <td>0</td>\n",
       "      <td>0</td>\n",
       "      <td>0</td>\n",
       "      <td>0</td>\n",
       "      <td>0</td>\n",
       "      <td>0</td>\n",
       "      <td>1</td>\n",
       "      <td>0</td>\n",
       "      <td>0</td>\n",
       "      <td>&gt;50K</td>\n",
       "    </tr>\n",
       "    <tr>\n",
       "      <th>2</th>\n",
       "      <td>17</td>\n",
       "      <td>2230</td>\n",
       "      <td>270942</td>\n",
       "      <td>1000</td>\n",
       "      <td>9</td>\n",
       "      <td>991</td>\n",
       "      <td>295</td>\n",
       "      <td>104</td>\n",
       "      <td>2586</td>\n",
       "      <td>1989</td>\n",
       "      <td>...</td>\n",
       "      <td>0</td>\n",
       "      <td>0</td>\n",
       "      <td>0</td>\n",
       "      <td>0</td>\n",
       "      <td>0</td>\n",
       "      <td>0</td>\n",
       "      <td>0</td>\n",
       "      <td>0</td>\n",
       "      <td>0</td>\n",
       "      <td>&lt;=50K</td>\n",
       "    </tr>\n",
       "    <tr>\n",
       "      <th>3</th>\n",
       "      <td>50</td>\n",
       "      <td>2230</td>\n",
       "      <td>50178</td>\n",
       "      <td>1000</td>\n",
       "      <td>9</td>\n",
       "      <td>1354</td>\n",
       "      <td>70</td>\n",
       "      <td>1199</td>\n",
       "      <td>2586</td>\n",
       "      <td>1989</td>\n",
       "      <td>...</td>\n",
       "      <td>0</td>\n",
       "      <td>0</td>\n",
       "      <td>0</td>\n",
       "      <td>0</td>\n",
       "      <td>0</td>\n",
       "      <td>0</td>\n",
       "      <td>1</td>\n",
       "      <td>0</td>\n",
       "      <td>0</td>\n",
       "      <td>&gt;50K</td>\n",
       "    </tr>\n",
       "    <tr>\n",
       "      <th>4</th>\n",
       "      <td>43</td>\n",
       "      <td>132</td>\n",
       "      <td>101383</td>\n",
       "      <td>1000</td>\n",
       "      <td>9</td>\n",
       "      <td>1354</td>\n",
       "      <td>355</td>\n",
       "      <td>1199</td>\n",
       "      <td>2586</td>\n",
       "      <td>1989</td>\n",
       "      <td>...</td>\n",
       "      <td>0</td>\n",
       "      <td>0</td>\n",
       "      <td>0</td>\n",
       "      <td>0</td>\n",
       "      <td>0</td>\n",
       "      <td>0</td>\n",
       "      <td>1</td>\n",
       "      <td>0</td>\n",
       "      <td>0</td>\n",
       "      <td>&gt;50K</td>\n",
       "    </tr>\n",
       "  </tbody>\n",
       "</table>\n",
       "<p>5 rows × 53 columns</p>\n",
       "</div>"
      ],
      "text/plain": [
       "   age  workclass  fnlwgt  education  education-num  marital-status  \\\n",
       "0   44       2230  111067        667             10            1354   \n",
       "1   25       2230  203871        115             11            1354   \n",
       "2   17       2230  270942       1000              9             991   \n",
       "3   50       2230   50178       1000              9            1354   \n",
       "4   43        132  101383       1000              9            1354   \n",
       "\n",
       "   occupation  relationship  race   sex  ...  native-country_ Puerto-Rico  \\\n",
       "0         355          1199  2586  1989  ...                            0   \n",
       "1         560           142  2586  1011  ...                            0   \n",
       "2         295           104  2586  1989  ...                            0   \n",
       "3          70          1199  2586  1989  ...                            0   \n",
       "4         355          1199  2586  1989  ...                            0   \n",
       "\n",
       "   native-country_ Scotland  native-country_ South  native-country_ Taiwan  \\\n",
       "0                         0                      0                       0   \n",
       "1                         0                      0                       0   \n",
       "2                         0                      0                       0   \n",
       "3                         0                      0                       0   \n",
       "4                         0                      0                       0   \n",
       "\n",
       "   native-country_ Thailand  native-country_ Trinadad&Tobago  \\\n",
       "0                         0                                0   \n",
       "1                         0                                0   \n",
       "2                         0                                0   \n",
       "3                         0                                0   \n",
       "4                         0                                0   \n",
       "\n",
       "   native-country_ United-States  native-country_ Vietnam  \\\n",
       "0                              1                        0   \n",
       "1                              1                        0   \n",
       "2                              0                        0   \n",
       "3                              1                        0   \n",
       "4                              1                        0   \n",
       "\n",
       "   native-country_ Yugoslavia  Income-category  \n",
       "0                           0            <=50K  \n",
       "1                           0             >50K  \n",
       "2                           0            <=50K  \n",
       "3                           0             >50K  \n",
       "4                           0             >50K  \n",
       "\n",
       "[5 rows x 53 columns]"
      ]
     },
     "execution_count": 5,
     "metadata": {},
     "output_type": "execute_result"
    }
   ],
   "source": [
    "## Replacing the categorical values for each attribute with their frequencies\n",
    "data['workclass']=data['workclass'].map(data_workclass)\n",
    "data['education']=data['education'].map(data_education)\n",
    "data['marital-status']=data['marital-status'].map(data_maritalstatus)\n",
    "data['occupation']=data['occupation'].map(data_occupation)\n",
    "data['relationship']=data['relationship'].map(data_relationship)\n",
    "data['race']=data['race'].map(data_race)\n",
    "data['sex']=data['sex'].map(data_sex)\n",
    "data.head()"
   ]
  },
  {
   "cell_type": "code",
   "execution_count": 6,
   "metadata": {},
   "outputs": [
    {
     "data": {
      "text/plain": [
       " <=50K    2258\n",
       " >50K      742\n",
       "Name: Income-category, dtype: int64"
      ]
     },
     "execution_count": 6,
     "metadata": {},
     "output_type": "execute_result"
    }
   ],
   "source": [
    "x = data.drop(labels = 'Income-category', axis =1)\n",
    "y = data['Income-category']\n",
    "y.value_counts()"
   ]
  },
  {
   "cell_type": "code",
   "execution_count": 7,
   "metadata": {},
   "outputs": [],
   "source": [
    "#Label encoding the target attribute\n",
    "le = LabelEncoder()\n",
    "y = le.fit_transform(y)"
   ]
  },
  {
   "cell_type": "code",
   "execution_count": 8,
   "metadata": {},
   "outputs": [],
   "source": [
    "xTrain, xTest, yTrain, yTest = train_test_split(x, y, test_size = 0.2, random_state = 0)"
   ]
  },
  {
   "cell_type": "code",
   "execution_count": 9,
   "metadata": {},
   "outputs": [],
   "source": [
    "#Normalization using MinMax\n",
    "norm = MinMaxScaler().fit(xTrain)\n",
    "xscaledTrain = norm.transform(xTrain)\n",
    "xscaledTest = norm.transform(xTest)"
   ]
  },
  {
   "cell_type": "markdown",
   "metadata": {},
   "source": [
    "# Hyperparameter tunning for KNN"
   ]
  },
  {
   "cell_type": "code",
   "execution_count": 21,
   "metadata": {},
   "outputs": [
    {
     "name": "stdout",
     "output_type": "stream",
     "text": [
      "Fitting 12 folds for each of 6 candidates, totalling 72 fits\n"
     ]
    },
    {
     "name": "stderr",
     "output_type": "stream",
     "text": [
      "[Parallel(n_jobs=-1)]: Using backend LokyBackend with 12 concurrent workers.\n",
      "[Parallel(n_jobs=-1)]: Done  72 out of  72 | elapsed:    0.8s finished\n"
     ]
    },
    {
     "name": "stdout",
     "output_type": "stream",
     "text": [
      "KNN BestScore for F1 =  0.548074037632532\n",
      "Best parameters for KNN=  {'metric': 'manhattan', 'n_neighbors': 1, 'weights': 'uniform'}\n",
      "===================================KNN==================================\n",
      "[[401  68]\n",
      " [ 59  72]]\n",
      "Accuracy = 0.79\n",
      "F1 Score =  0.5313653136531366\n",
      "Precision =  0.5775396825396825\n",
      "Recall =  0.5165394402035624\n",
      "Precision-recall AUC =  0.5811186841148672\n",
      "Cohen Kappa =  0.3948538754764931\n",
      "ROC AUC =  0.7023144907957486\n",
      "Classifcation report = \n",
      "               precision    recall  f1-score   support\n",
      "\n",
      "           0       0.87      0.86      0.86       469\n",
      "           1       0.51      0.55      0.53       131\n",
      "\n",
      "    accuracy                           0.79       600\n",
      "   macro avg       0.69      0.70      0.70       600\n",
      "weighted avg       0.79      0.79      0.79       600\n",
      "\n"
     ]
    },
    {
     "data": {
      "image/png": "[encoded data removed]",
      "text/plain": [
       "<Figure size 432x288 with 1 Axes>"
      ]
     },
     "metadata": {
      "needs_background": "light"
     },
     "output_type": "display_data"
    }
   ],
   "source": [
    "#Parameter grid for Knn\n",
    "param_knn = {'n_neighbors':[1], \n",
    "              'metric':['euclidean','manhattan','minkowski'],\n",
    "             'weights':['uniform','distance']}\n",
    "\n",
    "#Grid search for Knn\n",
    "knn_gs = GridSearchCV(KNeighborsClassifier(), param_knn, cv=12, verbose = 1, n_jobs = -1, scoring='f1')\n",
    "knn_gs = knn_gs.fit(xscaledTrain,yTrain)\n",
    "print('KNN BestScore for F1 = ',knn_gs.best_score_)\n",
    "print('Best parameters for KNN= ',knn_gs.best_params_)\n",
    "\n",
    "#KNN with best parameters on unseen test data\n",
    "print('===================================KNN==================================')\n",
    "kpred = knn_gs.predict(xscaledTest)\n",
    "print(confusion_matrix(yTest, kpred))\n",
    "knnprecision, knnrecall, knnthresholds = precision_recall_curve(yTest, kpred)\n",
    "print('Accuracy = {0:4.2f}'.format(accuracy_score(yTest,kpred)))\n",
    "print('F1 Score = ',f1_score(yTest,kpred))#, average = 'weighted'))\n",
    "print('Precision = ', knnprecision.mean())\n",
    "print('Recall = ', knnrecall.mean())\n",
    "knn_oldpr = auc(knnrecall, knnprecision)\n",
    "knn_oldck = cohen_kappa_score(yTest,kpred)\n",
    "print('Precision-recall AUC = ',auc(knnrecall, knnprecision))\n",
    "print('Cohen Kappa = ', cohen_kappa_score(yTest,kpred))\n",
    "print('ROC AUC = ',roc_auc_score(yTest,kpred))\n",
    "print('Classifcation report = \\n', classification_report(yTest,kpred))\n",
    "\n",
    "\n",
    "#plt.figure(figsize=(5, 5), dpi=100)\n",
    "plt.plot(recall, precision, linestyle=':', label='SVM (auc = %0.3f)' % knn_oldpr)\n",
    "#plt.plot(logistic_fpr, logistic_tpr, marker='.', label='Logistic (auc = %0.3f)' % auc_logistic)\n",
    "plt.xlabel('recall')\n",
    "plt.ylabel('precision')\n",
    "plt.legend()\n",
    "plt.show()"
   ]
  },
  {
   "cell_type": "markdown",
   "metadata": {},
   "source": [
    "# Hyperparameter tunning of Decision Tree"
   ]
  },
  {
   "cell_type": "code",
   "execution_count": 10,
   "metadata": {},
   "outputs": [
    {
     "name": "stdout",
     "output_type": "stream",
     "text": [
      "Fitting 12 folds for each of 342 candidates, totalling 4104 fits\n"
     ]
    },
    {
     "name": "stderr",
     "output_type": "stream",
     "text": [
      "[Parallel(n_jobs=-1)]: Using backend LokyBackend with 12 concurrent workers.\n",
      "[Parallel(n_jobs=-1)]: Done  26 tasks      | elapsed:    2.0s\n",
      "[Parallel(n_jobs=-1)]: Done 1048 tasks      | elapsed:    3.5s\n",
      "[Parallel(n_jobs=-1)]: Done 4104 out of 4104 | elapsed:    7.1s finished\n"
     ]
    },
    {
     "name": "stdout",
     "output_type": "stream",
     "text": [
      "DecisionTree BestScore for F1 =  0.6553767500805338\n",
      "Best parameters for DecisionTree=  {'criterion': 'gini', 'max_depth': 4, 'max_leaf_nodes': 9}\n",
      "[[441  28]\n",
      " [ 54  77]]\n",
      "Accuracy = 0.86\n",
      "F1 Score =  0.6525423728813559\n",
      "Precision =  0.6505555555555556\n",
      "Recall =  0.5292620865139949\n",
      "Precision-recall AUC =  0.705559796437659\n",
      "Cohen Kappa =  0.5687615040757297\n",
      "ROC AUC =  0.7640423835023358\n",
      "Classifcation report = \n",
      "               precision    recall  f1-score   support\n",
      "\n",
      "           0       0.89      0.94      0.91       469\n",
      "           1       0.73      0.59      0.65       131\n",
      "\n",
      "    accuracy                           0.86       600\n",
      "   macro avg       0.81      0.76      0.78       600\n",
      "weighted avg       0.86      0.86      0.86       600\n",
      "\n"
     ]
    },
    {
     "ename": "NameError",
     "evalue": "name 'knnrecall' is not defined",
     "output_type": "error",
     "traceback": [
      "\u001b[1;31m---------------------------------------------------------------------------\u001b[0m",
      "\u001b[1;31mNameError\u001b[0m                                 Traceback (most recent call last)",
      "\u001b[1;32m<ipython-input-10-1bc76fa45a4f>\u001b[0m in \u001b[0;36m<module>\u001b[1;34m\u001b[0m\n\u001b[0;32m     27\u001b[0m \u001b[0mplt\u001b[0m\u001b[1;33m.\u001b[0m\u001b[0mfigure\u001b[0m\u001b[1;33m(\u001b[0m\u001b[0mfigsize\u001b[0m\u001b[1;33m=\u001b[0m\u001b[1;33m(\u001b[0m\u001b[1;36m5\u001b[0m\u001b[1;33m,\u001b[0m \u001b[1;36m5\u001b[0m\u001b[1;33m)\u001b[0m\u001b[1;33m,\u001b[0m \u001b[0mdpi\u001b[0m\u001b[1;33m=\u001b[0m\u001b[1;36m100\u001b[0m\u001b[1;33m)\u001b[0m\u001b[1;33m\u001b[0m\u001b[1;33m\u001b[0m\u001b[0m\n\u001b[0;32m     28\u001b[0m \u001b[0mplt\u001b[0m\u001b[1;33m.\u001b[0m\u001b[0mplot\u001b[0m\u001b[1;33m(\u001b[0m\u001b[0mdtrecall\u001b[0m\u001b[1;33m,\u001b[0m \u001b[0mdtprecision\u001b[0m\u001b[1;33m,\u001b[0m \u001b[0mlinestyle\u001b[0m\u001b[1;33m=\u001b[0m\u001b[1;34m':'\u001b[0m\u001b[1;33m,\u001b[0m \u001b[0mlabel\u001b[0m\u001b[1;33m=\u001b[0m\u001b[1;34m'DT (auc = %0.3f)'\u001b[0m \u001b[1;33m%\u001b[0m \u001b[0mdt_oldpr\u001b[0m\u001b[1;33m)\u001b[0m\u001b[1;33m\u001b[0m\u001b[1;33m\u001b[0m\u001b[0m\n\u001b[1;32m---> 29\u001b[1;33m \u001b[0mplt\u001b[0m\u001b[1;33m.\u001b[0m\u001b[0mplot\u001b[0m\u001b[1;33m(\u001b[0m\u001b[0mknnrecall\u001b[0m\u001b[1;33m,\u001b[0m \u001b[0mknnprecision\u001b[0m\u001b[1;33m,\u001b[0m \u001b[0mlinestyle\u001b[0m\u001b[1;33m=\u001b[0m\u001b[1;34m':'\u001b[0m\u001b[1;33m,\u001b[0m \u001b[0mlabel\u001b[0m\u001b[1;33m=\u001b[0m\u001b[1;34m'KNN (auc = %0.3f)'\u001b[0m \u001b[1;33m%\u001b[0m \u001b[0mknn_oldpr\u001b[0m\u001b[1;33m)\u001b[0m\u001b[1;33m\u001b[0m\u001b[1;33m\u001b[0m\u001b[0m\n\u001b[0m\u001b[0;32m     30\u001b[0m \u001b[0mplt\u001b[0m\u001b[1;33m.\u001b[0m\u001b[0mxlabel\u001b[0m\u001b[1;33m(\u001b[0m\u001b[1;34m'recall'\u001b[0m\u001b[1;33m)\u001b[0m\u001b[1;33m\u001b[0m\u001b[1;33m\u001b[0m\u001b[0m\n\u001b[0;32m     31\u001b[0m \u001b[0mplt\u001b[0m\u001b[1;33m.\u001b[0m\u001b[0mylabel\u001b[0m\u001b[1;33m(\u001b[0m\u001b[1;34m'precision'\u001b[0m\u001b[1;33m)\u001b[0m\u001b[1;33m\u001b[0m\u001b[1;33m\u001b[0m\u001b[0m\n",
      "\u001b[1;31mNameError\u001b[0m: name 'knnrecall' is not defined"
     ]
    },
    {
     "data": {
      "image/png": "[encoded data removed]",
      "text/plain": [
       "<Figure size 500x500 with 1 Axes>"
      ]
     },
     "metadata": {
      "needs_background": "light"
     },
     "output_type": "display_data"
    }
   ],
   "source": [
    "#Parameter grid for DecesionTree\n",
    "param_dt = {'criterion':['gini','entropy'],\n",
    "            'max_depth':list(range(1,20)),\n",
    "            'max_leaf_nodes':list(range(1,10))}\n",
    "\n",
    "#Grid search for DecesionTree\n",
    "dt_gs = GridSearchCV(DecisionTreeClassifier(), param_dt, cv=12, verbose = 1, n_jobs = -1, scoring='f1')\n",
    "dt_gs = dt_gs.fit(xscaledTrain,yTrain)\n",
    "print('DecisionTree BestScore for F1 = ',dt_gs.best_score_)\n",
    "print('Best parameters for DecisionTree= ',dt_gs.best_params_)\n",
    "\n",
    "#DecisionTree with best parameters on unseen test data\n",
    "dpred = dt_gs.predict(xscaledTest)\n",
    "print(confusion_matrix(yTest, dpred))\n",
    "dtprecision, dtrecall, dtthresholds = precision_recall_curve(yTest, dpred)\n",
    "print('Accuracy = {0:4.2f}'.format(accuracy_score(yTest,dpred)))\n",
    "print('F1 Score = ',f1_score(yTest,dpred))#, average = 'weighted'))\n",
    "print('Precision = ', dtprecision.mean())\n",
    "print('Recall = ', dtrecall.mean())\n",
    "dt_oldpr = auc(dtrecall, dtprecision)\n",
    "dt_oldck = cohen_kappa_score(yTest,dpred)\n",
    "print('Precision-recall AUC = ',auc(dtrecall, dtprecision))\n",
    "print('Cohen Kappa = ', cohen_kappa_score(yTest,dpred))\n",
    "print('ROC AUC = ',roc_auc_score(yTest,dpred))\n",
    "print('Classifcation report = \\n', classification_report(yTest,dpred))\n",
    "\n",
    "plt.figure(figsize=(5, 5), dpi=100)\n",
    "plt.plot(dtrecall, dtprecision, linestyle=':', label='DT (auc = %0.3f)' % dt_oldpr)\n",
    "plt.plot(knnrecall, knnprecision, linestyle=':', label='KNN (auc = %0.3f)' % knn_oldpr)\n",
    "plt.xlabel('recall')\n",
    "plt.ylabel('precision')\n",
    "plt.legend()\n",
    "plt.show()"
   ]
  },
  {
   "cell_type": "markdown",
   "metadata": {},
   "source": [
    "# Hyperparameter tunning for Neural Network"
   ]
  },
  {
   "cell_type": "code",
   "execution_count": 22,
   "metadata": {
    "scrolled": false
   },
   "outputs": [
    {
     "name": "stdout",
     "output_type": "stream",
     "text": [
      "Fitting 10 folds for each of 15 candidates, totalling 150 fits\n"
     ]
    },
    {
     "name": "stderr",
     "output_type": "stream",
     "text": [
      "[Parallel(n_jobs=-1)]: Using backend LokyBackend with 12 concurrent workers.\n",
      "[Parallel(n_jobs=-1)]: Done  26 tasks      | elapsed:   43.9s\n",
      "[Parallel(n_jobs=-1)]: Done 150 out of 150 | elapsed:  2.8min finished\n"
     ]
    },
    {
     "name": "stdout",
     "output_type": "stream",
     "text": [
      "NeuralNetwork BestScore for F1 =  0.6128085116284406\n",
      "Best parameters for NeuralNetwork=  {'alpha': 0.01, 'hidden_layer_sizes': (150, 150), 'learning_rate_init': 0.01}\n",
      "==============================NeuralNetwork=====================================\n",
      "[[404  65]\n",
      " [ 34  97]]\n",
      "Accuracy = 0.83\n",
      "F1 Score =  0.6621160409556314\n",
      "Precision =  0.6056995884773663\n",
      "Recall =  0.5801526717557252\n",
      "Precision-recall AUC =  0.6979450570163039\n",
      "Cohen Kappa =  0.5545757221272383\n",
      "ROC AUC =  0.8009326323670632\n",
      "Classifcation report = \n",
      "               precision    recall  f1-score   support\n",
      "\n",
      "           0       0.92      0.86      0.89       469\n",
      "           1       0.60      0.74      0.66       131\n",
      "\n",
      "    accuracy                           0.83       600\n",
      "   macro avg       0.76      0.80      0.78       600\n",
      "weighted avg       0.85      0.83      0.84       600\n",
      "\n"
     ]
    },
    {
     "data": {
      "image/png": "[encoded data removed]",
      "text/plain": [
       "<Figure size 500x500 with 1 Axes>"
      ]
     },
     "metadata": {
      "needs_background": "light"
     },
     "output_type": "display_data"
    }
   ],
   "source": [
    "#Paramter grid for NeuralNetwork\n",
    "param_mlp = {'alpha':[0.01, 0.5, 1, 5, 7],\n",
    "             'learning_rate_init':[0.01, 0.5, 1],\n",
    "             'hidden_layer_sizes':[(150,150)]}\n",
    "\n",
    "#Grid search for NeuralNetwork\n",
    "nn_gs = GridSearchCV(MLPClassifier(), param_mlp, cv=10, verbose = 1, n_jobs = -1, scoring='f1')\n",
    "nn_gs = nn_gs.fit(xscaledTrain,yTrain)\n",
    "print('NeuralNetwork BestScore for F1 = ',nn_gs.best_score_)\n",
    "print('Best parameters for NeuralNetwork= ',nn_gs.best_params_)\n",
    "\n",
    "#NeuralNetwork with best parameters on unseen test data\n",
    "print('==============================NeuralNetwork=====================================')\n",
    "npred = nn_gs.predict(xscaledTest)\n",
    "print(confusion_matrix(yTest, npred))\n",
    "nnprecision, nnrecall, nnthresholds = precision_recall_curve(yTest, npred)\n",
    "print('Accuracy = {0:4.2f}'.format(accuracy_score(yTest,npred)))\n",
    "print('F1 Score = ',f1_score(yTest,npred))#, average = 'weighted'))\n",
    "print('Precision = ', nnprecision.mean())\n",
    "print('Recall = ', nnrecall.mean())\n",
    "nn_oldpr = auc(nnrecall, nnprecision)\n",
    "nn_oldck = cohen_kappa_score(yTest,npred)\n",
    "print('Precision-recall AUC = ',auc(nnrecall, nnprecision))\n",
    "print('Cohen Kappa = ', cohen_kappa_score(yTest,npred))\n",
    "print('ROC AUC = ',roc_auc_score(yTest,npred))\n",
    "print('Classifcation report = \\n', classification_report(yTest,npred))\n",
    "\n",
    "plt.figure(figsize=(5, 5), dpi=100)\n",
    "plt.plot(dtrecall, dtprecision, linestyle='-', label='DT (auc = %0.3f)' % dt_oldpr)\n",
    "plt.plot(knnrecall, knnprecision, linestyle='-', label='KNN (auc = %0.3f)' % knn_oldpr)\n",
    "plt.plot(nnrecall, nnprecision, linestyle='-', label='NN (auc = %0.3f)' % nn_oldpr)\n",
    "plt.xlabel('recall')\n",
    "plt.ylabel('precision')\n",
    "plt.legend()\n",
    "plt.show()"
   ]
  },
  {
   "cell_type": "markdown",
   "metadata": {},
   "source": [
    "# Bagging Classifier"
   ]
  },
  {
   "cell_type": "code",
   "execution_count": 27,
   "metadata": {},
   "outputs": [
    {
     "name": "stdout",
     "output_type": "stream",
     "text": [
      "[[469   0]\n",
      " [131   0]]\n",
      "Accuracy = 0.78\n",
      "F1 Score =  0.0\n",
      "Precision =  0.6091666666666666\n",
      "Recall =  0.5\n",
      "Precision-recall AUC =  0.6091666666666666\n",
      "Cohen Kappa =  0.0\n",
      "[[465   4]\n",
      " [ 87  44]]\n",
      "Accuracy = 0.85\n",
      "F1 Score =  0.49162011173184356\n",
      "Precision =  0.7116666666666666\n",
      "Recall =  0.44529262086514\n",
      "Precision-recall AUC =  0.6987722646310432\n",
      "Cohen Kappa =  0.4241964059731713\n",
      "[[439  30]\n",
      " [ 55  76]]\n",
      "Accuracy = 0.86\n",
      "F1 Score =  0.6413502109704641\n",
      "Precision =  0.645104821802935\n",
      "Recall =  0.5267175572519084\n",
      "Precision-recall AUC =  0.6944002352489317\n",
      "Cohen Kappa =  0.5543048904114378\n",
      "[[423  46]\n",
      " [ 53  78]]\n",
      "Accuracy = 0.83\n",
      "F1 Score =  0.6117647058823529\n",
      "Precision =  0.6157885304659498\n",
      "Recall =  0.5318066157760813\n",
      "Precision-recall AUC =  0.6563927193630468\n",
      "Cohen Kappa =  0.5071030270844397\n",
      "[[425  44]\n",
      " [ 50  81]]\n",
      "Accuracy = 0.84\n",
      "F1 Score =  0.6328125\n",
      "Precision =  0.6221111111111112\n",
      "Recall =  0.539440203562341\n",
      "Precision-recall AUC =  0.6748269720101782\n",
      "Cohen Kappa =  0.533305750930906\n"
     ]
    }
   ],
   "source": [
    "kbag = KNeighborsClassifier(**knn_gs.best_params_)\n",
    "dbag = DecisionTreeClassifier(**dt_gs.best_params_)\n",
    "nbag = MLPClassifier(alpha = 0.01, hidden_layer_sizes = (150,150), learning_rate_init= 0.01)\n",
    "prauc = []\n",
    "cohen = []\n",
    "members = [2 ,4, 6, 8, 10, 12, 14, 16, 18, 20] #First check the best ensemble size\n",
    "features = [0.1,0.25,0.5,0.75,1.0] #Then check best samplesize/feature size\n",
    "for i in features:\n",
    "    bag = BaggingClassifier(base_estimator = nbag, n_estimators= 20, max_features= i, random_state=0)\n",
    "    bag = bag.fit(xscaledTrain,yTrain)\n",
    "    bpred = bag.predict(xscaledTest)\n",
    "    print(confusion_matrix(yTest, bpred))\n",
    "    precision, recall, thresholds = precision_recall_curve(yTest, bpred)\n",
    "    print('Accuracy = {0:4.2f}'.format(accuracy_score(yTest,bpred)))\n",
    "    print('F1 Score = ',f1_score(yTest,bpred))#, average = 'weighted'))\n",
    "    print('Precision = ', precision.mean())\n",
    "    print('Recall = ', recall.mean())\n",
    "    #newpr = auc(recall, precision)\n",
    "    prauc.append(auc(recall, precision))\n",
    "    print('Precision-recall AUC = ',auc(recall, precision))\n",
    "    #newck = cohen_kappa_score(yTest,bpred) \n",
    "    cohen.append(cohen_kappa_score(yTest,bpred))\n",
    "    print('Cohen Kappa = ', cohen_kappa_score(yTest,bpred) )\n",
    "\n"
   ]
  },
  {
   "cell_type": "code",
   "execution_count": 131,
   "metadata": {},
   "outputs": [
    {
     "data": {
      "image/png": "[encoded data removed]",
      "text/plain": [
       "<Figure size 300x300 with 1 Axes>"
      ]
     },
     "metadata": {
      "needs_background": "light"
     },
     "output_type": "display_data"
    }
   ],
   "source": [
    "plt.figure(figsize=(3, 3), dpi=100)\n",
    "plt.plot(recall, precision, linestyle=':', label='with Bagging (auc = %0.3f)' % max(prauc))\n",
    "plt.plot(nnrecall, nnprecision, linestyle=':', label='without Bagging (auc = %0.3f)' % nn_oldpr)\n",
    "plt.xlabel('recall')\n",
    "plt.ylabel('precision')\n",
    "plt.title('Neural Network')\n",
    "plt.legend(loc = 'upper left' , borderaxespad=0., bbox_to_anchor=(1.05, 1))\n",
    "plt.show()"
   ]
  },
  {
   "cell_type": "code",
   "execution_count": 26,
   "metadata": {},
   "outputs": [
    {
     "name": "stdout",
     "output_type": "stream",
     "text": [
      "best performance with members =  20\n",
      "best performance with members =  20\n"
     ]
    }
   ],
   "source": [
    "# To check best ensemble size\n",
    "print('best performance with members = ', members[prauc.index(max(prauc))])\n",
    "print('best performance with members = ', members[cohen.index(max(cohen))])"
   ]
  },
  {
   "cell_type": "code",
   "execution_count": 28,
   "metadata": {},
   "outputs": [
    {
     "name": "stdout",
     "output_type": "stream",
     "text": [
      "best performance with features =  0.25\n",
      "best performance with features =  0.5\n"
     ]
    }
   ],
   "source": [
    "#To check best size of samples/features\n",
    "print('best performance with features = ', features[prauc.index(max(prauc))])\n",
    "print('best performance with features = ', features[cohen.index(max(cohen))])"
   ]
  },
  {
   "cell_type": "code",
   "execution_count": null,
   "metadata": {},
   "outputs": [],
   "source": []
  }
 ],
 "metadata": {
  "kernelspec": {
   "display_name": "Python 3",
   "language": "python",
   "name": "python3"
  },
  "language_info": {
   "codemirror_mode": {
    "name": "ipython",
    "version": 3
   },
   "file_extension": ".py",
   "mimetype": "text/x-python",
   "name": "python",
   "nbconvert_exporter": "python",
   "pygments_lexer": "ipython3",
   "version": "3.8.3"
  },
  "widgets": {
   "application/vnd.jupyter.widget-state+json": {
    "state": {},
    "version_major": 2,
    "version_minor": 0
   }
  }
 },
 "nbformat": 4,
 "nbformat_minor": 4
}
